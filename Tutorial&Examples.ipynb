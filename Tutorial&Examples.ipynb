{
 "cells": [
  {
   "cell_type": "markdown",
   "metadata": {},
   "source": [
    "# Initialisation and imports"
   ]
  },
  {
   "cell_type": "code",
   "execution_count": 1,
   "metadata": {},
   "outputs": [],
   "source": [
    "from pprint import pprint  # for pretty-printing python variables like 'dict'\n",
    "%gui qt\n",
    "import numpy.random as rd\n",
    "import matplotlib.pyplot as plt\n",
    "from functools import partial\n",
    "import numpy as np\n",
    "\n",
    "import qcodes as qc\n",
    "from qcodes import (initialise_database,\n",
    "                    new_experiment)\n",
    "from qcodes.dataset.experiment_container import (Experiment,\n",
    "                                                 load_last_experiment,\n",
    "                                                 new_experiment,\n",
    "                                                 load_experiment,\n",
    "                                                 load_by_id,\n",
    "                                                 load_or_create_experiment\n",
    "                                                 )\n",
    "from qcodes.tests.instrument_mocks import DummyInstrument\n",
    "from qcodes.dataset.plotting import plot_by_id\n",
    "#QCTools import\n",
    "import qctools as qct\n",
    "from qctools.db_extraction import db_extractor\n",
    "from qctools.doNd import doNd\n",
    "from qctools.meta import setparam_meta, getparam_meta, diff_R_G_Ibias, diff_R_G_Vbias, multi_instrument_set, multi_instrument_get"
   ]
  },
  {
   "cell_type": "code",
   "execution_count": 2,
   "metadata": {},
   "outputs": [
    {
     "name": "stdout",
     "output_type": "stream",
     "text": [
      "Upgrading database; v0 -> v1: : 0it [00:00, ?it/s]\n",
      "Upgrading database; v1 -> v2: 100%|██████████████████████████████████████████████████████████████| 1/1 [00:00<?, ?it/s]\n",
      "Upgrading database; v2 -> v3: : 0it [00:00, ?it/s]\n",
      "Upgrading database; v3 -> v4: : 0it [00:00, ?it/s]\n",
      "Upgrading database; v4 -> v5: 100%|██████████████████████████████████████████████████████████████| 1/1 [00:00<?, ?it/s]\n",
      "Upgrading database; v5 -> v6: : 0it [00:00, ?it/s]\n",
      "Upgrading database; v6 -> v7: 100%|██████████████████████████████████████████████████████| 1/1 [00:00<00:00, 19.86it/s]\n",
      "Upgrading database; v7 -> v8: 100%|██████████████████████████████████████████████████████████████| 1/1 [00:00<?, ?it/s]\n",
      "Upgrading database; v8 -> v9: 100%|██████████████████████████████████████████████████████████████| 1/1 [00:00<?, ?it/s]\n"
     ]
    }
   ],
   "source": [
    "#Initialising new or existing DB:\n",
    "configuration = qc.config\n",
    "dbloc = r'.\\Tutorial.db'\n",
    "configuration['core']['db_location'] = dbloc\n",
    "configuration.save_to_home()\n",
    "initialise_database()"
   ]
  },
  {
   "cell_type": "markdown",
   "metadata": {},
   "source": [
    "## Useful Commands to use with the database"
   ]
  },
  {
   "cell_type": "code",
   "execution_count": 3,
   "metadata": {},
   "outputs": [
    {
     "name": "stdout",
     "output_type": "stream",
     "text": [
      "\n",
      "# All you need to load or create an experiment. Consider them chapters in your measurement adventure.\n",
      "exp = load_or_create_experiment('test', sample_name='no sample')\n",
      "\n",
      "# Load experiment by experiment id\n",
      "exp = load_experiment(1)\n",
      "# Only useful when you forcibly want to create an experiment with an existing name, \n",
      "# otherwise load_or_create_experiment will do the trick\n",
      "exp = new_experiment('test', sample_name='no sample') \n",
      "\n",
      "#Visualise your dataset and see IDs\n",
      "qc.dataset.experiment_container.experiments()\n",
      "#See the full path of the currently active database\n",
      "qc.dataset.database.get_DB_location()\n",
      "#Load measurement run by id\n",
      "run=load_by_id(8)\n",
      "#Get parameters of the run (i.e. used set and readout axes)\n",
      "params = run.get_parameters()\n",
      "#For other useful stuff, simply use tab completion \n",
      "run. #press 'Tab' on this line to see all possible attributes to call\n",
      "exp. #press 'Tab' on this line to see all possible attributes to call\n",
      "{instrument_name}.close() #Removes instrument\n",
      "\n",
      "#Pretty print the snapshot and the description of the run.\n",
      "pprint(run.description.to_json())\n",
      "pprint(run.snapshot)\n",
      "#Get metadata if available\n",
      "run.get_metadata\n",
      "#Get name of the run\n",
      "run.name\n",
      "#Get number of results\n",
      "run.number_of_results\n",
      "\n"
     ]
    }
   ],
   "source": [
    "print('''\n",
    "# All you need to load or create an experiment. Consider them chapters in your measurement adventure.\n",
    "exp = load_or_create_experiment('test', sample_name='no sample')\n",
    "\n",
    "# Load experiment by experiment id\n",
    "exp = load_experiment(1)\n",
    "# Only useful when you forcibly want to create an experiment with an existing name, \n",
    "# otherwise load_or_create_experiment will do the trick\n",
    "exp = new_experiment('test', sample_name='no sample') \n",
    "\n",
    "#Visualise your dataset and see IDs\n",
    "qc.dataset.experiment_container.experiments()\n",
    "#See the full path of the currently active database\n",
    "qc.dataset.database.get_DB_location()\n",
    "#Load measurement run by id\n",
    "run=load_by_id(8)\n",
    "#Get parameters of the run (i.e. used set and readout axes)\n",
    "params = run.get_parameters()\n",
    "#For other useful stuff, simply use tab completion \n",
    "run. #press 'Tab' on this line to see all possible attributes to call\n",
    "exp. #press 'Tab' on this line to see all possible attributes to call\n",
    "{instrument_name}.close() #Removes instrument\n",
    "\n",
    "#Pretty print the snapshot and the description of the run.\n",
    "pprint(run.description.to_json())\n",
    "pprint(run.snapshot)\n",
    "#Get metadata if available\n",
    "run.get_metadata\n",
    "#Get name of the run\n",
    "run.name\n",
    "#Get number of results\n",
    "run.number_of_results\n",
    "''')"
   ]
  },
  {
   "cell_type": "markdown",
   "metadata": {},
   "source": [
    "## Connect to instruments using drivers"
   ]
  },
  {
   "cell_type": "markdown",
   "metadata": {},
   "source": [
    "### Dummies"
   ]
  },
  {
   "cell_type": "code",
   "execution_count": 4,
   "metadata": {},
   "outputs": [],
   "source": [
    "#Dummy DAC\n",
    "dummydac = DummyInstrument('dac', gates=['ch1', 'ch2', 'ch3'])\n",
    "#Dummy DMM\n",
    "dummyimeas = DummyInstrument('imeas', gates=['i1', 'i2'])"
   ]
  },
  {
   "cell_type": "markdown",
   "metadata": {},
   "source": [
    "### Real instruments using qcodes driver (needs real instrument to run)"
   ]
  },
  {
   "cell_type": "code",
   "execution_count": 5,
   "metadata": {},
   "outputs": [
    {
     "name": "stdout",
     "output_type": "stream",
     "text": [
      "\n",
      "#Connecting to a SR830 lock-in amplifier\n",
      "from qcodes.instrument_drivers.stanford_research.SR830 import SR830\n",
      "lockin = SR830(name=\"lockin\",address=\"GPIB0::10::INSTR\") #It lives on virtual GPIB address 10\n",
      "\n"
     ]
    }
   ],
   "source": [
    "print('''\n",
    "#Connecting to a SR830 lock-in amplifier\n",
    "from qcodes.instrument_drivers.stanford_research.SR830 import SR830\n",
    "lockin = SR830(name=\"lockin\",address=\"GPIB0::10::INSTR\") #It lives on virtual GPIB address 10\n",
    "''')"
   ]
  },
  {
   "cell_type": "markdown",
   "metadata": {},
   "source": [
    "### Real instruments using qcodes_contrib_drivers (needs real instrument to run)"
   ]
  },
  {
   "cell_type": "code",
   "execution_count": 6,
   "metadata": {},
   "outputs": [
    {
     "name": "stdout",
     "output_type": "stream",
     "text": [
      "\n",
      "#Connecting to Basel Instruments DAC rack\n",
      "from qcodes_contrib_drivers.drivers.unibasel.SP927 import SP927 # import SP927 Unibasel DAC\n",
      "dac = SP927(\"DAC\",\"ASRL4::INSTR\") # DAC living on virtual COM port 4\n",
      "\n"
     ]
    }
   ],
   "source": [
    "print('''\n",
    "#Connecting to Basel Instruments DAC rack\n",
    "from qcodes_contrib_drivers.drivers.unibasel.SP927 import SP927 # import SP927 Unibasel DAC\n",
    "dac = SP927(\"DAC\",\"ASRL4::INSTR\") # DAC living on virtual COM port 4\n",
    "''')"
   ]
  },
  {
   "cell_type": "markdown",
   "metadata": {},
   "source": [
    "## Defining meta instruments"
   ]
  },
  {
   "cell_type": "markdown",
   "metadata": {},
   "source": [
    "### Dummy meta instruments using 'setparam_meta' and 'getparam_meta'"
   ]
  },
  {
   "cell_type": "code",
   "execution_count": 7,
   "metadata": {},
   "outputs": [],
   "source": [
    "#Creating backgate meta instrument using dac.ch1\n",
    "backgate = setparam_meta(name = 'backgate', \n",
    "                         label = r'Backgate $V_\\mathrm{BG}$', \n",
    "                         scale_param = 10, \n",
    "                         instrument = dummydac.ch1, \n",
    "                         maxVal = 10, \n",
    "                         unit = 'V', \n",
    "                         inter_delay = 1e-3, \n",
    "                         step = 25e-2)\n",
    "topgate = setparam_meta(name = 'topgate', \n",
    "                        label = r'Topgate $V_\\mathrm{BG}$', \n",
    "                        scale_param = 10, \n",
    "                        instrument = dummydac.ch2, \n",
    "                        maxVal = 10, \n",
    "                        unit = 'V', \n",
    "                        inter_delay = 1e-3, \n",
    "                        step = 25e-2)\n",
    "sidegate = setparam_meta(name = 'sidegate', \n",
    "                        label = r'Sidegate $V_\\mathrm{BG}$', \n",
    "                        scale_param = 10, \n",
    "                        instrument = dummydac.ch3, \n",
    "                        maxVal = 10, \n",
    "                        unit = 'V', \n",
    "                        inter_delay = 1e-3, \n",
    "                        step = 25e-2)\n",
    "\n",
    "#Creating current measurement meta instrument using dmm.v1\n",
    "current_measure = getparam_meta(name = 'drain_current',\n",
    "                                label = r'dc 1 $I_\\mathrm{SD1}$',\n",
    "                                scale_param = 1e-2,\n",
    "                                instrument = dummyimeas.i1,\n",
    "                                unit = 'A')\n",
    "current_measure2 = getparam_meta(name = 'drain_current2',\n",
    "                                 label = r'dc 2 $I_\\mathrm{SD2}$',\n",
    "                                 scale_param = 1e-2,\n",
    "                                 instrument = dummyimeas.i2,\n",
    "                                 unit = 'A')"
   ]
  },
  {
   "cell_type": "markdown",
   "metadata": {},
   "source": [
    "### Dummy model to measure some Gaussian distribution"
   ]
  },
  {
   "cell_type": "code",
   "execution_count": 8,
   "metadata": {},
   "outputs": [],
   "source": [
    "# and we'll make a 2D gaussian to sample from/measure\n",
    "from functools import partial\n",
    "def gauss_model(x0: float, y0: float, sigma: float, noise: float=0.0005):\n",
    "    \"\"\"\n",
    "    Returns a generator sampling a gaussian. The gaussian is\n",
    "    normalised such that its maximal value is simply 1\n",
    "    \"\"\"\n",
    "    while True:\n",
    "        (x, y) = yield\n",
    "        model = np.exp(-((x0-x)**2+(y0-y)**2)/2/sigma**2)*np.exp(2*sigma**2)\n",
    "        noise = np.random.randn()*noise\n",
    "        yield model + noise\n",
    "\n",
    "# and finally wire up the dmm v1 to \"measure\" the gaussian\n",
    "\n",
    "gauss = gauss_model(0.1, 0.2, 0.25)\n",
    "next(gauss)\n",
    "\n",
    "def measure_gauss(dac):\n",
    "    val = gauss.send((dac.ch1.get(), dac.ch2.get()))\n",
    "    next(gauss)\n",
    "    return val\n",
    "\n",
    "dummyimeas.i1.get = partial(measure_gauss, dummydac)\n",
    "dummyimeas.i2.get = partial(measure_gauss, dummydac)"
   ]
  },
  {
   "cell_type": "markdown",
   "metadata": {},
   "source": [
    "### Example of using lockin metas 'diff_R_G_Ibias' and 'diff_R_G_Vbias' (needs real lockin to run)"
   ]
  },
  {
   "cell_type": "code",
   "execution_count": 9,
   "metadata": {},
   "outputs": [
    {
     "name": "stdout",
     "output_type": "stream",
     "text": [
      "\n",
      "# Meta-instrument for measuring current in a V-biased measurement. \n",
      "# Starred arguments must be supplied\n",
      "lockinVbias_meas = diff_R_G_Vbias(lockin_handle=lockin,  #* lockin handle\n",
      "                                  V_div=1e3,       #* value of voltage divider on input\n",
      "                                  IV_gain=1e6,     #* gain of the IV converter\n",
      "                                  V_ac=40e-3,      #Default: None, raw ac voltage for lockin ('None' uses current one)\n",
      "                                  trans_gain=1/4,  #Default: 1, transformer gain on lockin input\n",
      "                                  suffix='1',      #Default: '', adds suffix to distingiush in the case of multiuple lockins\n",
      "                                  autosense=False, #Default: False, switches autoranging of sensitivity\n",
      "                                  ntc=3,           #Default: 3, for autosense, number of timeconstants before deciding to switch range\n",
      "                                  lim=1e-6)        #Default: 1e-6, for autosense, lowest sensitivy limit\n",
      "\n",
      "# Meta-instrument for measuring a voltage drop in a I-biased measurement. \n",
      "# Starred arguments must be supplied \n",
      "lockinIbias_meas = diff_R_G_Ibias(lockin_handle=lockin, #* lockin handle \n",
      "                                  R_pre=1e6,       #* value of voltage divider on input\n",
      "                                  V_gain=1e2,      #* gain of the voltage amplifier\n",
      "                                  V_ac=None,       #Default: None, raw ac voltage for lockin ('None' uses current one)\n",
      "                                  trans_gain=1/4,  #Default: 1, transformer gain on lockin input\n",
      "                                  suffix='1',      #Default: '', adds suffix to distingiush in the case of multiuple lockins\n",
      "                                  autosense=True,  #Default: False, switches autoranging of sensitivity\n",
      "                                  ntc=3,           #Default: 3, for autosense, number of timeconstants before deciding to switch range\n",
      "                                  lim=1e-6)        #Default: 1e-6, for autosense, lowest sensitivy limit\n",
      "\n"
     ]
    }
   ],
   "source": [
    "print('''\n",
    "# Meta-instrument for measuring current in a V-biased measurement. \n",
    "# Starred arguments must be supplied\n",
    "lockinVbias_meas = diff_R_G_Vbias(lockin_handle=lockin,  #* lockin handle\n",
    "                                  V_div=1e3,       #* value of voltage divider on input\n",
    "                                  IV_gain=1e6,     #* gain of the IV converter\n",
    "                                  V_ac=40e-3,      #Default: None, raw ac voltage for lockin ('None' uses current one)\n",
    "                                  trans_gain=1/4,  #Default: 1, transformer gain on lockin input\n",
    "                                  suffix='1',      #Default: '', adds suffix to distingiush in the case of multiuple lockins\n",
    "                                  autosense=False, #Default: False, switches autoranging of sensitivity\n",
    "                                  ntc=3,           #Default: 3, for autosense, number of timeconstants before deciding to switch range\n",
    "                                  lim=1e-6)        #Default: 1e-6, for autosense, lowest sensitivy limit\n",
    "\n",
    "# Meta-instrument for measuring a voltage drop in a I-biased measurement. \n",
    "# Starred arguments must be supplied \n",
    "lockinIbias_meas = diff_R_G_Ibias(lockin_handle=lockin, #* lockin handle \n",
    "                                  R_pre=1e6,       #* value of voltage divider on input\n",
    "                                  V_gain=1e2,      #* gain of the voltage amplifier\n",
    "                                  V_ac=None,       #Default: None, raw ac voltage for lockin ('None' uses current one)\n",
    "                                  trans_gain=1/4,  #Default: 1, transformer gain on lockin input\n",
    "                                  suffix='1',      #Default: '', adds suffix to distingiush in the case of multiuple lockins\n",
    "                                  autosense=True,  #Default: False, switches autoranging of sensitivity\n",
    "                                  ntc=3,           #Default: 3, for autosense, number of timeconstants before deciding to switch range\n",
    "                                  lim=1e-6)        #Default: 1e-6, for autosense, lowest sensitivy limit\n",
    "''')"
   ]
  },
  {
   "cell_type": "markdown",
   "metadata": {},
   "source": [
    "### Virtual spectrum analyzer for simulating 'ParameterwithSetpoins' class"
   ]
  },
  {
   "cell_type": "code",
   "execution_count": 10,
   "metadata": {},
   "outputs": [],
   "source": [
    "from qcodes.instrument.parameter import ParameterWithSetpoints, Parameter\n",
    "from qcodes.instrument.base import Instrument\n",
    "from qcodes.utils.validators import Numbers, Arrays\n",
    "from qcodes.dataset.measurements import Measurement\n",
    "class GeneratedSetPoints(Parameter):\n",
    "    \"\"\"\n",
    "    A parameter that generates a setpoint array from start, stop and num points\n",
    "    parameters.\n",
    "    \"\"\"\n",
    "    def __init__(self, startparam, stopparam, numpointsparam, *args, **kwargs):\n",
    "        super().__init__(*args, **kwargs)\n",
    "        self._startparam = startparam\n",
    "        self._stopparam = stopparam\n",
    "        self._numpointsparam = numpointsparam\n",
    "\n",
    "    def get_raw(self):\n",
    "        return np.linspace(self._startparam(), self._stopparam(),\n",
    "                              self._numpointsparam())\n",
    "\n",
    "class DummyArray(ParameterWithSetpoints):\n",
    "\n",
    "    def get_raw(self):\n",
    "        npoints = self.root_instrument.n_points.get_latest()\n",
    "        return np.random.rand(npoints)\n",
    "\n",
    "# Description of instrument class\n",
    "class DummySpectrumAnalyzer(Instrument):\n",
    "\n",
    "    def __init__(self, name, **kwargs):\n",
    "\n",
    "        super().__init__(name, **kwargs)\n",
    "\n",
    "\n",
    "        # frequency start parameter\n",
    "        self.add_parameter('f_start',\n",
    "                           initial_value=0,\n",
    "                           unit='Hz',\n",
    "                           label='f start',\n",
    "                           vals=Numbers(0,1e3),\n",
    "                           get_cmd=None,\n",
    "                           set_cmd=None)\n",
    "\n",
    "        # frequency stop parameter\n",
    "        self.add_parameter('f_stop',\n",
    "                           unit='Hz',\n",
    "                           label='f stop',\n",
    "                           vals=Numbers(1,1e3),\n",
    "                           get_cmd=None,\n",
    "                           set_cmd=None)\n",
    "\n",
    "        # number of points parameter\n",
    "        self.add_parameter('n_points',\n",
    "                           unit='',\n",
    "                           initial_value=10,\n",
    "                           vals=Numbers(1,1e3),\n",
    "                           get_cmd=None,\n",
    "                           set_cmd=None)\n",
    "\n",
    "        # frequency axis parameter constructed from 'f_start', 'f_stop', 'n_points' and the GeneratedSetPoints class\n",
    "        self.add_parameter('freq_axis',\n",
    "                           unit='Hz',\n",
    "                           label='Freq Axis',\n",
    "                           parameter_class=GeneratedSetPoints,\n",
    "                           startparam=self.f_start,\n",
    "                           stopparam=self.f_stop,\n",
    "                           numpointsparam=self.n_points,\n",
    "                           vals=Arrays(shape=(self.n_points.get_latest,)))\n",
    "\n",
    "        # spectrum parameter measuring the defined axis\n",
    "        self.add_parameter('spectrum',\n",
    "                   unit='dBm',\n",
    "                   setpoints=(self.freq_axis,),\n",
    "                   label='Spectrum',\n",
    "                   parameter_class=DummyArray,\n",
    "                   vals=Arrays(shape=(self.n_points.get_latest,)))"
   ]
  },
  {
   "cell_type": "code",
   "execution_count": 11,
   "metadata": {},
   "outputs": [],
   "source": [
    "# defining the instrument\n",
    "dsa = DummySpectrumAnalyzer('foobar2')"
   ]
  },
  {
   "cell_type": "markdown",
   "metadata": {},
   "source": [
    "# Setting up measurements"
   ]
  },
  {
   "cell_type": "markdown",
   "metadata": {},
   "source": [
    "## Setup description"
   ]
  },
  {
   "cell_type": "markdown",
   "metadata": {},
   "source": [
    "![title](img/setup.png)"
   ]
  },
  {
   "cell_type": "markdown",
   "metadata": {},
   "source": [
    "- Everything connected to everything, except number 2\n",
    "- Etc."
   ]
  },
  {
   "cell_type": "markdown",
   "metadata": {},
   "source": [
    "## Documentation of doNd"
   ]
  },
  {
   "cell_type": "code",
   "execution_count": 12,
   "metadata": {},
   "outputs": [
    {
     "name": "stdout",
     "output_type": "stream",
     "text": [
      "\n",
      "    ----------------------------------------------------------------------------------------------------\n",
      "    doNd: Generalised measurement function that is able to handle an arbitrary number of set parameters.\n",
      "    ----------------------------------------------------------------------------------------------------\n",
      "    \n",
      "    Arguments:\n",
      "    ----------\n",
      "\n",
      "    param_set: QCoDeS instrument parameters used for setpoints of measurements. \n",
      "               The fastest axis is on the right, the slowest axis is on the left.\n",
      "        - type: list\n",
      "        - example: param_set = [set_param1, set_param2, ... etc]\n",
      "    ..............................................................................................................\n",
      "    spaces: Setpoints corresponding to the parameters in param_set.\n",
      "            Functionality of spaces is changed by the manualsetpoints=True argument, see below\n",
      "        - type: list of numpy arrays\n",
      "        - example: space_set_param1 = np.linspace(0,10,11)\n",
      "                   space_set_param2 = np.linspace(-3,3,7)\n",
      "                   spaces = [space_set_param1, space_set_param2, ... etc]\n",
      "    ..............................................................................................................\n",
      "    settle_times: Waiting times in seconds for each datapoint after corresponding param_set have reached \n",
      "                  their destination values.\n",
      "        - type: list of floats of length len(param_set)\n",
      "        - example: settle_times = [settle_time1, settle_time2, ... etc]\n",
      "    ..............................................................................................................\n",
      "    param_meas: QCoDeS instrument parameters for which the values are recorded at each datapoint.\n",
      "        - type: list\n",
      "        - example: param_meas = [meas_param1, .. etc]\n",
      "    ..............................................................................................................\n",
      "    name: Name of the measurement.\n",
      "        - type: string without special characters or spaces\n",
      "        - example: name = 'Name of this measurement'\n",
      "    ..............................................................................................................\n",
      "    comment: Additional remarks, can contain special characters and spaces.\n",
      "        - type: string\n",
      "        - example:comment = 'More explanation'\n",
      "    ..............................................................................................................\n",
      "    meander: Use a meandering pattern for setpoints of the fastest and second to fastest measurement axis.\n",
      "        - type: boolean\n",
      "        - example: meander = False (default)\n",
      "    ..............................................................................................................\n",
      "    extra_cmd: Optional extra command that is executed before each param_meas is read out\n",
      "        - type: list of class instances of functions of length len(param_meas)\n",
      "        - example: extra_cmd = [cmd_meas_param1, cmd_meas_param2, ... etc]\n",
      "    ..............................................................................................................\n",
      "    extra_cmd_val: Optional extra value that of extra_cmd, it will be evaluated as extra_cmd(extra_cmd_val). \n",
      "                   If extra_cmd_val is not given, extra_cmd() will be run.\n",
      "        - type: list of class instances of functions of length len(extra_cmd)\n",
      "        - example: extra_cmd = [cmd_val_param1, cmd_val_param2, ... etc]\n",
      "    ..............................................................................................................\n",
      "    wait_first_datapoint: Additional seconds to wait before measuring the first datapoint of the measurement\n",
      "        - type: float\n",
      "        - example: wait_first_datapoint = 3\n",
      "    ..............................................................................................................\n",
      "    checkstepinterdelay: Checks if 'step' and 'inter_delay' have been set for all param_set. If not, 'inter_delay' \n",
      "                         is set to 5e-2 s and 'step' is set to the minumum spacing between setpoints of the \n",
      "                         corresponding param_set. Recommended to leave on for safety.\n",
      "        - type: Boolean\n",
      "        - example: checkstepinterdelay = True (default)\n",
      "    ..............................................................................................................\n",
      "    manualsetpoints: Modifies functionality of 'spaces'. Now, spaces should be supplied as an (n,m) sized array\n",
      "                     containing all setpoints 'n' with param_set values 'm'.\n",
      "        - type: Boolean\n",
      "        - example: manualsetpoints = False (default)\n",
      "    ..............................................................................................................\n",
      "    snapshot: Controls taking a snapshot of the parameters of all connected instruments\n",
      "        - type: boolean\n",
      "        - example: snapshot = True (default) \n",
      "    ..............................................................................................................\n",
      "    \n"
     ]
    }
   ],
   "source": [
    "print(doNd.__doc__)"
   ]
  },
  {
   "cell_type": "markdown",
   "metadata": {},
   "source": [
    "## Example measurements with different dimensionalities"
   ]
  },
  {
   "cell_type": "code",
   "execution_count": 13,
   "metadata": {},
   "outputs": [],
   "source": [
    "#First create an experiment\n",
    "exp = load_or_create_experiment('Conductivity&BG_response', sample_name='My first quantum computer')"
   ]
  },
  {
   "cell_type": "markdown",
   "metadata": {},
   "source": [
    "### '1D'"
   ]
  },
  {
   "cell_type": "code",
   "execution_count": 14,
   "metadata": {},
   "outputs": [
    {
     "name": "stdout",
     "output_type": "stream",
     "text": [
      "----------------------  -------------------------------------------------\n",
      "       Starting runid:  1\n",
      "                 Name:  1D_Isd_vs_Vbg\n",
      "              Comment:  Looking for some specific feature\n",
      "     Set parameter(s):  backgate  5  V\n",
      " Readout parameter(s):  drain_current   0.00228779  A\n",
      "                        drain_current2  0.00228779  A\n",
      "______________________  _________________________________________________\n",
      "Setpoint: 3001 of 3001  100.00 % complete.\n",
      "   Started: 2022-08-08  17:21:17\n",
      "       ETA: 2022-08-08  17:21:51\n",
      "  Finished: 2022-08-08  17:21:51\n",
      "       Total duration:  0:00:34\n",
      "         Elapsed time:  0:00:34\n",
      "       Remaining time:  0:00:00\n"
     ]
    },
    {
     "data": {
      "image/png": "[encoded data removed]",
      "text/plain": [
       "<Figure size 432x288 with 1 Axes>"
      ]
     },
     "metadata": {
      "needs_background": "light"
     },
     "output_type": "display_data"
    },
    {
     "data": {
      "image/png": "[encoded data removed]",
      "text/plain": [
       "<Figure size 432x288 with 1 Axes>"
      ]
     },
     "metadata": {
      "needs_background": "light"
     },
     "output_type": "display_data"
    }
   ],
   "source": [
    "# Example 1D measurement:\n",
    "doNd(param_set = [backgate],              #*\n",
    "     spaces= [np.linspace(-5,5,3001)],    #*\n",
    "     settle_times = [1e-3],               #*\n",
    "     param_meas = [current_measure, current_measure2], #*\n",
    "     name='1D_Isd_vs_Vbg',                   #*\n",
    "     comment='Looking for some specific feature',\n",
    "     meander = True, ##Sets meandering on first 'slow' axis.\n",
    "     wait_first_datapoint=3) ##Waits for n seconds before measuring the first datapoins"
   ]
  },
  {
   "cell_type": "markdown",
   "metadata": {},
   "source": [
    "### '2D'"
   ]
  },
  {
   "cell_type": "code",
   "execution_count": 15,
   "metadata": {
    "scrolled": false
   },
   "outputs": [
    {
     "name": "stdout",
     "output_type": "stream",
     "text": [
      "----------------------  -------------------------------------------------\n",
      "       Starting runid:  2\n",
      "                 Name:  2D_Vbg_vs_Vtg_Isd\n",
      "              Comment:  Looking for some specific feature\n",
      "     Set parameter(s):  backgate  5  V\n",
      "                        topgate   5  V\n",
      " Readout parameter(s):  drain_current   0.00153355  A\n",
      "                        drain_current2  0.00153355  A\n",
      "______________________  _________________________________________________\n",
      "  Setpoint: 121 of 121  100.00 % complete.\n",
      "   Started: 2022-08-08  17:21:55\n",
      "       ETA: 2022-08-08  17:22:02\n",
      "  Finished: 2022-08-08  17:22:02\n",
      "       Total duration:  0:00:07\n",
      "         Elapsed time:  0:00:07\n",
      "       Remaining time:  0:00:00\n"
     ]
    },
    {
     "data": {
      "image/png": "[encoded data removed]",
      "text/plain": [
       "<Figure size 432x288 with 2 Axes>"
      ]
     },
     "metadata": {
      "needs_background": "light"
     },
     "output_type": "display_data"
    },
    {
     "data": {
      "image/png": "[encoded data removed]",
      "text/plain": [
       "<Figure size 432x288 with 2 Axes>"
      ]
     },
     "metadata": {
      "needs_background": "light"
     },
     "output_type": "display_data"
    }
   ],
   "source": [
    "# Example 2D measurement:\n",
    "doNd(param_set = [backgate, topgate],                       #*\n",
    "     spaces= [np.linspace(-5,5,11), np.linspace(-5,5,11)], #*\n",
    "     settle_times = [1e-2, 1e-2],                           #*\n",
    "     param_meas = [current_measure, current_measure2],     #*\n",
    "     name='2D_Vbg_vs_Vtg_Isd',                                    #*\n",
    "     comment='Looking for some specific feature',\n",
    "     meander = True, ##Sets meandering on first 'slow' axis.\n",
    "     wait_first_datapoint=3) ##Waits for n seconds before measuring the first datapoins"
   ]
  },
  {
   "cell_type": "markdown",
   "metadata": {},
   "source": [
    "### '3D'"
   ]
  },
  {
   "cell_type": "code",
   "execution_count": 16,
   "metadata": {},
   "outputs": [
    {
     "name": "stdout",
     "output_type": "stream",
     "text": [
      "----------------------  -------------------------------------------------\n",
      "       Starting runid:  3\n",
      "                 Name:  3D_Vbg_vs_Vtg_vs_Vsg_vs_Isd\n",
      "              Comment:  Looking for some specific feature\n",
      "     Set parameter(s):  backgate  5  V\n",
      "                        topgate   5  V\n",
      "                        sidegate  5  V\n",
      " Readout parameter(s):  drain_current   0.00153355  A\n",
      "                        drain_current2  0.00153355  A\n",
      "______________________  _________________________________________________\n",
      "Setpoint: 1331 of 1331  100.00 % complete.\n",
      "   Started: 2022-08-08  17:22:06\n",
      "       ETA: 2022-08-08  17:23:11\n",
      "  Finished: 2022-08-08  17:23:12\n",
      "       Total duration:  0:01:05\n",
      "         Elapsed time:  0:01:05\n",
      "       Remaining time:  0:00:00\n",
      "QCoDeS currently does not support plotting of higher dimensional data, plotting skipped.\n"
     ]
    }
   ],
   "source": [
    "# Example 3D measurement:\n",
    "doNd(param_set = [backgate, topgate, sidegate],              #*\n",
    "     spaces= [np.linspace(-5,5,11), np.linspace(-5,5,11), np.linspace(-5,5,11)],    #*\n",
    "     settle_times = [1e-1, 1e-2, 1e-3],               #*\n",
    "     param_meas = [current_measure, current_measure2], #*\n",
    "     name='3D_Vbg_vs_Vtg_vs_Vsg_vs_Isd',                   #*\n",
    "     comment='Looking for some specific feature',\n",
    "     meander = True, ##Sets meandering on first 'slow' axis.\n",
    "     wait_first_datapoint=3) ##Waits for n seconds before measuring the first datapoins"
   ]
  },
  {
   "cell_type": "markdown",
   "metadata": {},
   "source": [
    "### '2D' with a 'ParameterwithSetpoints' measurement axis "
   ]
  },
  {
   "cell_type": "code",
   "execution_count": 17,
   "metadata": {
    "scrolled": false
   },
   "outputs": [
    {
     "name": "stdout",
     "output_type": "stream",
     "text": [
      "----------------------  -------------------------------------------------\n",
      "       Starting runid:  4\n",
      "                 Name:  2D_Vbg_vs_Vtg_vs_Spectr_and_Isd\n",
      "              Comment:  Looking for some specific feature\n",
      "     Set parameter(s):  backgate  5  V\n",
      "                        topgate   5  V\n",
      " Readout parameter(s):  spectrum        {Parameter with setpoints, not shown.}\n",
      "                        drain_current   0.00153355  A\n",
      "                        drain_current2  0.00153355  A\n",
      "______________________  _________________________________________________\n",
      "    Setpoint: 25 of 25  100.00 % complete.\n",
      "   Started: 2022-08-08  17:23:15\n",
      "       ETA: 2022-08-08  17:23:19\n",
      "  Finished: 2022-08-08  17:23:19\n",
      "       Total duration:  0:00:04\n",
      "         Elapsed time:  0:00:04\n",
      "       Remaining time:  0:00:00\n"
     ]
    },
    {
     "name": "stderr",
     "output_type": "stream",
     "text": [
      "Multi-dimensional data encountered. parameter foobar2_spectrum depends on 3 parameters, cannot plot that.\n"
     ]
    },
    {
     "data": {
      "image/png": "[encoded data removed]",
      "text/plain": [
       "<Figure size 432x288 with 1 Axes>"
      ]
     },
     "metadata": {
      "needs_background": "light"
     },
     "output_type": "display_data"
    },
    {
     "data": {
      "image/png": "[encoded data removed]",
      "text/plain": [
       "<Figure size 432x288 with 2 Axes>"
      ]
     },
     "metadata": {
      "needs_background": "light"
     },
     "output_type": "display_data"
    },
    {
     "data": {
      "image/png": "[encoded data removed]",
      "text/plain": [
       "<Figure size 432x288 with 2 Axes>"
      ]
     },
     "metadata": {
      "needs_background": "light"
     },
     "output_type": "display_data"
    }
   ],
   "source": [
    "# defining the frequency axis of dummy spectrum analyzer\n",
    "dsa.f_start(0)\n",
    "dsa.f_stop(500)\n",
    "dsa.n_points(11)\n",
    "\n",
    "doNd(param_set = [backgate,topgate],                       #*\n",
    "     spaces= [np.linspace(-5,5,5), np.linspace(-5,5,5)], #*\n",
    "     settle_times = [1e-2,1e-3],                           #*\n",
    "     param_meas = [dsa.spectrum, current_measure, current_measure2],     #*\n",
    "     name='2D_Vbg_vs_Vtg_vs_Spectr_and_Isd',                                    #*\n",
    "     comment='Looking for some specific feature',\n",
    "     meander = True, ##Sets meandering on first 'slow' axis.\n",
    "     wait_first_datapoint=3) ##Waits for n seconds before measuring the first datapoins"
   ]
  },
  {
   "cell_type": "markdown",
   "metadata": {},
   "source": [
    "## Multi_instrument meta example"
   ]
  },
  {
   "cell_type": "code",
   "execution_count": 18,
   "metadata": {},
   "outputs": [],
   "source": [
    "# These meta-instruments enable simultaneous sweeping of multiple set_parameters. \n",
    "# Their inter-dependence is defined by a slope and an offset with respect to an \n",
    "# arbitrary primary 'space' which is given to the doNd function. The function is \n",
    "# designed to be quite general and should handle instruments directly as well as \n",
    "# previously defined meta-instruments. A separate 'get' metainstrument is required \n",
    "# to readout the individiual instruments used in the 'set' instrument.\n",
    "\n",
    "# Parameters used in both the set and get multi_instrument\n",
    "instruments = [backgate,topgate]\n",
    "scale_params = [1,1]\n",
    "name = 'TopBackgate_sweep'\n",
    "\n",
    "# Names, units and labels lists are generated for the get meta:\n",
    "instrumentnames=[None] * len(instruments)\n",
    "instrumentunits=[None] * len(instruments)\n",
    "instrumentlabels=[None] * len(instruments)\n",
    "for i in range(0,len(instruments)):\n",
    "    instrumentnames[i] = instruments[i].name\n",
    "    instrumentunits[i] = instruments[i].unit\n",
    "    instrumentlabels[i] = instruments[i].label\n",
    "\n",
    "# Set parameter for multi_instrument\n",
    "coupledgates_set= multi_instrument_set(name = name,\n",
    "                            label = r'Top+Backgate $V$', \n",
    "                            scale_param = scale_params,  # list length n, scale_params for set axes\n",
    "                            instrument = instruments,    # list length n, instrument handles\n",
    "                            slope = [ 1,-0.4],           # list length n, slopes with respect to primary\n",
    "                            offset = [ 0,0.3],           # list length n, offset with respect to primary\n",
    "                            maxVal = [ 10, 10],          # list length n, maxVal \n",
    "                            unit = 'V',                  # string, unit of primary axis\n",
    "                            inter_delay = [5e-9,5e-9],   # list length n, inter_delays of instruments\n",
    "                            step = [ 100e-4,100e-4],     # list length n, stepsize of instruments\n",
    "                            inter_delay_meta = 1e-6,     # float, inter_delay of primary axis\n",
    "                            step_meta=1e-3)              # float, stepsize of primary axis\n",
    "\n",
    "# Get parameter for multi_instrument\n",
    "coupledgates_get = multi_instrument_get(name=name+'_get',\n",
    "                                 names = instrumentnames, # List of instrument names\n",
    "                                 labels = instrumentlabels, # List of labels\n",
    "                                 units = instrumentunits, # List of units\n",
    "                                 instrument = instruments,  # list of instruments\n",
    "                                 scale_param = scale_params) # list of scale parameters\n",
    "\n"
   ]
  },
  {
   "cell_type": "code",
   "execution_count": 19,
   "metadata": {},
   "outputs": [
    {
     "name": "stdout",
     "output_type": "stream",
     "text": [
      "----------------------  -------------------------------------------------\n",
      "       Starting runid:  5\n",
      "                 Name:  1D_Multigatesweep\n",
      "              Comment:  Looking for some specific feature\n",
      "     Set parameter(s):  TopBackgate_sweep  5  V\n",
      " Readout parameter(s):  drain_current          0.00105378  A\n",
      "                        TopBackgate_sweep_get  backgate  5     V\n",
      "                                               topgate   -1.7  V\n",
      "______________________  _________________________________________________\n",
      "Setpoint: 3001 of 3001  100.00 % complete.\n",
      "   Started: 2022-08-08  17:23:22\n",
      "       ETA: 2022-08-08  17:23:57\n",
      "  Finished: 2022-08-08  17:23:57\n",
      "       Total duration:  0:00:35\n",
      "         Elapsed time:  0:00:35\n",
      "       Remaining time:  0:00:00\n"
     ]
    },
    {
     "data": {
      "image/png": "[encoded data removed]",
      "text/plain": [
       "<Figure size 432x288 with 1 Axes>"
      ]
     },
     "metadata": {
      "needs_background": "light"
     },
     "output_type": "display_data"
    },
    {
     "data": {
      "image/png": "[encoded data removed]",
      "text/plain": [
       "<Figure size 432x288 with 1 Axes>"
      ]
     },
     "metadata": {
      "needs_background": "light"
     },
     "output_type": "display_data"
    },
    {
     "data": {
      "image/png": "[encoded data removed]",
      "text/plain": [
       "<Figure size 432x288 with 1 Axes>"
      ]
     },
     "metadata": {
      "needs_background": "light"
     },
     "output_type": "display_data"
    }
   ],
   "source": [
    "# doNd can now be used as before using 'coupledgates_set' and 'coupledgates_get'\n",
    "# IMPORTANT: use the argument 'checkstepinterdelay=False' for proper sweeping of individual instruments\n",
    "doNd(param_set = [coupledgates_set],\n",
    "     spaces= [np.linspace(-5,5,3001)],\n",
    "     settle_times = [1e-3],\n",
    "     param_meas = [current_measure, coupledgates_get], \n",
    "     name='1D_Multigatesweep', \n",
    "     comment='Looking for some specific feature',\n",
    "     meander = True,\n",
    "     wait_first_datapoint=3,\n",
    "     checkstepinterdelay = False) # <-- IMPORTANT"
   ]
  },
  {
   "cell_type": "markdown",
   "metadata": {},
   "source": [
    "# Database extraction tool"
   ]
  },
  {
   "cell_type": "markdown",
   "metadata": {},
   "source": [
    "- You can pass the function the following attributes:\n",
    "\n",
    "    - dbloc: give it a full database location\n",
    "    - extractpath: optional, give it a folder to extract to (has to exist). If empty it uses the dbloc path.\n",
    "    - ids: optional, array of run ids to extract (i.e. ids = np.arange(2,10) extracts runs 2 to 10). If empty it extracts all\n",
    "    - overwrite: If False, it does not overwrite files when extracting. Default: False\n",
    "    - timestamp: If True, adds timestamp to foldername per run. Default: True\n",
    "    - paramtofilename: If True, adds all parameter names to the run filename. Especially handy for people who named their measurements only 'results', makes it more descriptive. Default: False\n",
    "    - newline_slowaxes: Adds a newline on all slowaxes, works in infinte dimensions, i.e., cube measurements and higher. Default: True\n",
    "    - no_folders: Creation of folders is supressed. All measurements are put in the same folder with their measurement IDs.\n",
    "    - suppress_output: Suppresses all print commands\n"
   ]
  },
  {
   "cell_type": "code",
   "execution_count": 20,
   "metadata": {},
   "outputs": [
    {
     "name": "stdout",
     "output_type": "stream",
     "text": [
      "*.db file found, continue to unpack...\n"
     ]
    }
   ],
   "source": [
    "#Extracting the databse with default settings\n",
    "db_extractor(dbloc=dbloc)"
   ]
  },
  {
   "cell_type": "code",
   "execution_count": 21,
   "metadata": {
    "scrolled": true
   },
   "outputs": [
    {
     "name": "stdout",
     "output_type": "stream",
     "text": [
      "*.db file found, continue to unpack...\n",
      "Saving measurement with id 1 to  D:\\git_sync\\QCTools\\Tutorial_differentpath\\Exp01(Conductivity&BG_response)-Sample(My first quantum computer)\\001_20220808-172115_1D_Isd_vs_Vbg\\1D_Isd_vs_Vbg.dat\n"
     ]
    }
   ],
   "source": [
    "#Example extracting in different path for a single measurement\n",
    "db_extractor(dbloc=dbloc, \n",
    "             extractpath=r'.\\Tutorial_differentpath', \n",
    "             ids = [1],\n",
    "             overwrite = False,\n",
    "             timestamp = True, \n",
    "             paramtofilename = False,\n",
    "             newline_slowaxes = True,\n",
    "             no_folders = False,\n",
    "             suppress_output = False)"
   ]
  },
  {
   "cell_type": "code",
   "execution_count": 22,
   "metadata": {},
   "outputs": [
    {
     "name": "stdout",
     "output_type": "stream",
     "text": [
      "*.db file found, continue to unpack...\n",
      "Saving measurement with id 1 to  D:\\git_sync\\QCTools\\Tutorial_nofolders\\001-1D_Isd_vs_Vbg.dat\n",
      "Saving measurement with id 2 to  D:\\git_sync\\QCTools\\Tutorial_nofolders\\002-2D_Vbg_vs_Vtg_Isd.dat\n",
      "Saving measurement with id 3 to  D:\\git_sync\\QCTools\\Tutorial_nofolders\\003-3D_Vbg_vs_Vtg_vs_Vsg_vs_Isd.dat\n",
      "Saving measurement with id 4 to  D:\\git_sync\\QCTools\\Tutorial_nofolders\\004-0_2D_Vbg_vs_Vtg_vs_Spectr_and_Isd.dat\n",
      "Saving measurement with id 4 to  D:\\git_sync\\QCTools\\Tutorial_nofolders\\004-1_2D_Vbg_vs_Vtg_vs_Spectr_and_Isd.dat\n",
      "Saving measurement with id 5 to  D:\\git_sync\\QCTools\\Tutorial_nofolders\\005-1D_Multigatesweep.dat\n"
     ]
    }
   ],
   "source": [
    "#Example extracting without a folder structure, and with numbered files\n",
    "db_extractor(dbloc=dbloc, \n",
    "             extractpath=r'.\\Tutorial_nofolders', \n",
    "             ids = [],\n",
    "             overwrite = False,\n",
    "             timestamp = True, \n",
    "             paramtofilename = False,\n",
    "             newline_slowaxes = True,\n",
    "             no_folders = True,\n",
    "             suppress_output = False)"
   ]
  },
  {
   "cell_type": "code",
   "execution_count": 23,
   "metadata": {},
   "outputs": [
    {
     "name": "stdout",
     "output_type": "stream",
     "text": [
      "*.db file found, continue to unpack...\n",
      "Saving measurement with id 1 to  D:\\git_sync\\QCTools\\Tutorial_notimestamp\\Exp01(Conductivity&BG_response)-Sample(My first quantum computer)\\001__1D_Isd_vs_Vbg\\1D_Isd_vs_Vbg.dat\n",
      "Saving measurement with id 2 to  D:\\git_sync\\QCTools\\Tutorial_notimestamp\\Exp01(Conductivity&BG_response)-Sample(My first quantum computer)\\002__2D_Vbg_vs_Vtg_Isd\\2D_Vbg_vs_Vtg_Isd.dat\n",
      "Saving measurement with id 3 to  D:\\git_sync\\QCTools\\Tutorial_notimestamp\\Exp01(Conductivity&BG_response)-Sample(My first quantum computer)\\003__3D_Vbg_vs_Vtg_vs_Vsg_vs_Isd\\3D_Vbg_vs_Vtg_vs_Vsg_vs_Isd.dat\n",
      "Saving measurement with id 4 to  D:\\git_sync\\QCTools\\Tutorial_notimestamp\\Exp01(Conductivity&BG_response)-Sample(My first quantum computer)\\004__2D_Vbg_vs_Vtg_vs_Spectr_and_Isd\\0_2D_Vbg_vs_Vtg_vs_Spectr_and_Isd.dat\n",
      "Saving measurement with id 4 to  D:\\git_sync\\QCTools\\Tutorial_notimestamp\\Exp01(Conductivity&BG_response)-Sample(My first quantum computer)\\004__2D_Vbg_vs_Vtg_vs_Spectr_and_Isd\\1_2D_Vbg_vs_Vtg_vs_Spectr_and_Isd.dat\n",
      "Saving measurement with id 5 to  D:\\git_sync\\QCTools\\Tutorial_notimestamp\\Exp01(Conductivity&BG_response)-Sample(My first quantum computer)\\005__1D_Multigatesweep\\1D_Multigatesweep.dat\n"
     ]
    }
   ],
   "source": [
    "#Example extracting without a timestamp, and with numbered files\n",
    "db_extractor(dbloc=dbloc, \n",
    "             extractpath=r'.\\Tutorial_notimestamp', \n",
    "             ids = [],\n",
    "             overwrite = False,\n",
    "             timestamp = False, \n",
    "             paramtofilename = False,\n",
    "             newline_slowaxes = True,\n",
    "             no_folders = False,\n",
    "             suppress_output = False)"
   ]
  }
 ],
 "metadata": {
  "kernelspec": {
   "display_name": "Python 3 (ipykernel)",
   "language": "python",
   "name": "python3"
  },
  "language_info": {
   "codemirror_mode": {
    "name": "ipython",
    "version": 3
   },
   "file_extension": ".py",
   "mimetype": "text/x-python",
   "name": "python",
   "nbconvert_exporter": "python",
   "pygments_lexer": "ipython3",
   "version": "3.10.5"
  },
  "toc": {
   "base_numbering": 1,
   "nav_menu": {},
   "number_sections": true,
   "sideBar": true,
   "skip_h1_title": false,
   "title_cell": "Table of Contents",
   "title_sidebar": "Contents",
   "toc_cell": false,
   "toc_position": {
    "height": "calc(100% - 180px)",
    "left": "10px",
    "top": "150px",
    "width": "268px"
   },
   "toc_section_display": true,
   "toc_window_display": true
  }
 },
 "nbformat": 4,
 "nbformat_minor": 2
}
